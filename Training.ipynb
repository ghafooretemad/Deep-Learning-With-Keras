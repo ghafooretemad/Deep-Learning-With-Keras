{
  "nbformat": 4,
  "nbformat_minor": 0,
  "metadata": {
    "colab": {
      "provenance": [],
      "authorship_tag": "ABX9TyMgRThtk1yAEPPreFDnrzko",
      "include_colab_link": true
    },
    "kernelspec": {
      "name": "python3",
      "display_name": "Python 3"
    },
    "language_info": {
      "name": "python"
    }
  },
  "cells": [
    {
      "cell_type": "markdown",
      "metadata": {
        "id": "view-in-github",
        "colab_type": "text"
      },
      "source": [
        "<a href=\"https://colab.research.google.com/github/ghafooretemad/Deep-Learning-With-Keras/blob/master/Training.ipynb\" target=\"_parent\"><img src=\"https://colab.research.google.com/assets/colab-badge.svg\" alt=\"Open In Colab\"/></a>"
      ]
    },
    {
      "cell_type": "code",
      "execution_count": 19,
      "metadata": {
        "id": "1o0wlbRmnS9l"
      },
      "outputs": [],
      "source": [
        "import tensorflow as tf\n",
        "import keras\n",
        "from keras import layers\n",
        "import numpy as np\n"
      ]
    },
    {
      "cell_type": "code",
      "source": [
        "def getModelArchetecture():\n",
        "  inputs = keras.Input(shape=(784,), name=\"digits\")\n",
        "  layer1 = layers.Dense(units=64, activation=\"relu\", name=\"Dense_Layer_1\")(inputs)\n",
        "  layer2 = layers.Dense(units=64, activation=\"relu\", name=\"Dense_Layer_2\")(layer1)\n",
        "  layer3 = layers.Dense(units=10, activation=\"softmax\", name=\"Dense_output\")(layer2)\n",
        "\n",
        "  model = keras.Model(inputs=inputs, outputs=layer3)\n",
        "  return model\n"
      ],
      "metadata": {
        "id": "VnOlr60vnhm2"
      },
      "execution_count": 20,
      "outputs": []
    },
    {
      "cell_type": "code",
      "source": [
        "(x_train, y_train), (x_test, y_test) = keras.datasets.mnist.load_data()\n",
        "x_train = x_train.reshape(60000, 784).astype(\"float32\")/255\n",
        "x_test = x_test.reshape(10000, 784).astype(\"float32\")/255\n",
        "y_train = y_train.astype(\"float32\")\n",
        "y_test = y_test.astype(\"float32\")\n"
      ],
      "metadata": {
        "id": "DpD3uyHQpsII"
      },
      "execution_count": 21,
      "outputs": []
    },
    {
      "cell_type": "code",
      "source": [
        "x_val = x_train[-10000:]\n",
        "y_val = y_train[-10000:]\n",
        "x_train = x_train[:-10000]\n",
        "y_train = y_train[:-10000]\n",
        "x_train.shape"
      ],
      "metadata": {
        "colab": {
          "base_uri": "https://localhost:8080/"
        },
        "id": "TvLek0OAqHGu",
        "outputId": "87263655-6ecf-4efc-ab0f-a44d2e7d90a9"
      },
      "execution_count": 22,
      "outputs": [
        {
          "output_type": "execute_result",
          "data": {
            "text/plain": [
              "(50000, 784)"
            ]
          },
          "metadata": {},
          "execution_count": 22
        }
      ]
    },
    {
      "cell_type": "code",
      "source": [
        "def getCompiledModel():\n",
        "  model = getModelArchetecture()\n",
        "  model.compile(\n",
        "    optimizer = keras.optimizers.RMSprop(),\n",
        "    loss=keras.losses.SparseCategoricalCrossentropy(),\n",
        "    metrics= [keras.metrics.SparseCategoricalCrossentropy()])\n",
        "  return model\n"
      ],
      "metadata": {
        "id": "LYjc-tU9rgF3"
      },
      "execution_count": 23,
      "outputs": []
    },
    {
      "cell_type": "code",
      "source": [
        "model = getCompiledModel()\n",
        "history = model.fit(x_train, y_train, batch_size=64, epochs=3, validation_data=(x_val, y_val))"
      ],
      "metadata": {
        "colab": {
          "base_uri": "https://localhost:8080/"
        },
        "id": "AaBLwcKssJwa",
        "outputId": "f8dbe030-3e96-428e-cc8c-911a8fa3ebb4"
      },
      "execution_count": 24,
      "outputs": [
        {
          "output_type": "stream",
          "name": "stdout",
          "text": [
            "Epoch 1/3\n",
            "782/782 [==============================] - 4s 5ms/step - loss: 0.3522 - sparse_categorical_crossentropy: 0.3522 - val_loss: 0.1880 - val_sparse_categorical_crossentropy: 0.1880\n",
            "Epoch 2/3\n",
            "782/782 [==============================] - 3s 3ms/step - loss: 0.1707 - sparse_categorical_crossentropy: 0.1707 - val_loss: 0.1361 - val_sparse_categorical_crossentropy: 0.1361\n",
            "Epoch 3/3\n",
            "782/782 [==============================] - 3s 4ms/step - loss: 0.1270 - sparse_categorical_crossentropy: 0.1270 - val_loss: 0.1367 - val_sparse_categorical_crossentropy: 0.1367\n"
          ]
        }
      ]
    },
    {
      "cell_type": "code",
      "source": [
        "history.history"
      ],
      "metadata": {
        "colab": {
          "base_uri": "https://localhost:8080/"
        },
        "id": "UjAYp0D2s1UY",
        "outputId": "446aa521-03a7-4af8-ba37-335ade04f6a8"
      },
      "execution_count": 25,
      "outputs": [
        {
          "output_type": "execute_result",
          "data": {
            "text/plain": [
              "{'loss': [0.35217878222465515, 0.17073696851730347, 0.12696413695812225],\n",
              " 'sparse_categorical_crossentropy': [0.35217878222465515,\n",
              "  0.17073696851730347,\n",
              "  0.12696413695812225],\n",
              " 'val_loss': [0.18795983493328094, 0.13610456883907318, 0.13665273785591125],\n",
              " 'val_sparse_categorical_crossentropy': [0.18795983493328094,\n",
              "  0.13610456883907318,\n",
              "  0.13665273785591125]}"
            ]
          },
          "metadata": {},
          "execution_count": 25
        }
      ]
    },
    {
      "cell_type": "code",
      "source": [
        "model.evaluate(x_test, y_test, batch_size=128)"
      ],
      "metadata": {
        "colab": {
          "base_uri": "https://localhost:8080/"
        },
        "id": "bG_bxp1YtIO9",
        "outputId": "421d9786-ea51-4d78-9869-7b8a549522f0"
      },
      "execution_count": 26,
      "outputs": [
        {
          "output_type": "stream",
          "name": "stdout",
          "text": [
            "79/79 [==============================] - 0s 2ms/step - loss: 0.1308 - sparse_categorical_crossentropy: 0.1308\n"
          ]
        },
        {
          "output_type": "execute_result",
          "data": {
            "text/plain": [
              "[0.13079985976219177, 0.13079985976219177]"
            ]
          },
          "metadata": {},
          "execution_count": 26
        }
      ]
    },
    {
      "cell_type": "code",
      "source": [
        "model.predict(x_test[:3])"
      ],
      "metadata": {
        "colab": {
          "base_uri": "https://localhost:8080/"
        },
        "id": "11E9_tVotRcr",
        "outputId": "ce41a663-4dbc-4b3d-a77b-f3a0c4af9266"
      },
      "execution_count": 27,
      "outputs": [
        {
          "output_type": "stream",
          "name": "stdout",
          "text": [
            "1/1 [==============================] - 0s 65ms/step\n"
          ]
        },
        {
          "output_type": "execute_result",
          "data": {
            "text/plain": [
              "array([[1.4907064e-06, 1.9647048e-07, 8.5573748e-04, 2.4951901e-04,\n",
              "        1.2554046e-08, 5.7165573e-07, 2.4354671e-10, 9.9886692e-01,\n",
              "        1.7791033e-05, 7.9379515e-06],\n",
              "       [1.7771157e-07, 1.8877470e-05, 9.9983704e-01, 1.2822279e-04,\n",
              "        1.3608265e-13, 6.5474769e-06, 3.4593645e-06, 6.4684616e-12,\n",
              "        5.7551456e-06, 5.8766295e-12],\n",
              "       [7.2619792e-07, 9.9799585e-01, 9.4014336e-04, 3.1139789e-05,\n",
              "        4.7563175e-05, 3.8104608e-05, 2.9168295e-05, 5.9138483e-04,\n",
              "        3.1949877e-04, 6.5200061e-06]], dtype=float32)"
            ]
          },
          "metadata": {},
          "execution_count": 27
        }
      ]
    },
    {
      "cell_type": "code",
      "source": [
        "x_test[:3]"
      ],
      "metadata": {
        "colab": {
          "base_uri": "https://localhost:8080/"
        },
        "id": "cuQmO9nnteVv",
        "outputId": "519a0ce0-47ef-49d2-a468-b57642375c09"
      },
      "execution_count": 28,
      "outputs": [
        {
          "output_type": "execute_result",
          "data": {
            "text/plain": [
              "array([[0., 0., 0., ..., 0., 0., 0.],\n",
              "       [0., 0., 0., ..., 0., 0., 0.],\n",
              "       [0., 0., 0., ..., 0., 0., 0.]], dtype=float32)"
            ]
          },
          "metadata": {},
          "execution_count": 28
        }
      ]
    },
    {
      "cell_type": "code",
      "source": [],
      "metadata": {
        "id": "lmq6FNh8trdw"
      },
      "execution_count": 28,
      "outputs": []
    }
  ]
}