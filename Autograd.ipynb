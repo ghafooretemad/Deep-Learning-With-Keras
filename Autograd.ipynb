{
  "nbformat": 4,
  "nbformat_minor": 0,
  "metadata": {
    "colab": {
      "name": "Autograd.ipynb",
      "provenance": [],
      "authorship_tag": "ABX9TyM/1Sj8+dA7h1i2VnBhzbTU",
      "include_colab_link": true
    },
    "kernelspec": {
      "name": "python3",
      "display_name": "Python 3"
    },
    "language_info": {
      "name": "python"
    }
  },
  "cells": [
    {
      "cell_type": "markdown",
      "metadata": {
        "id": "view-in-github",
        "colab_type": "text"
      },
      "source": [
        "<a href=\"https://colab.research.google.com/github/ghafooretemad/Deep-Learning-With-Keras/blob/master/Autograd.ipynb\" target=\"_parent\"><img src=\"https://colab.research.google.com/assets/colab-badge.svg\" alt=\"Open In Colab\"/></a>"
      ]
    },
    {
      "cell_type": "markdown",
      "source": [
        "**Automatic Differentiation with torch.autograd**\n",
        "<br> Source <a href=\"https://pytorch.org/tutorials/beginner/basics/autogradqs_tutorial.html\"> here </a> <br>\n",
        "\n",
        "Back propagation is the most frequent algorithm that uses while training a model, it adjust the weights of the network using gradient of the loss fucntion with respect to the parameters.\n",
        "\n",
        "To compute those gradients, PyTorch has a built-in differentiation engine called **torch.autograd**. It supports automatic computation of gradient for any computational graph.\n",
        "\n",
        "I this example x is the input , and w and b are parameters, and some loss function.\n",
        "We are optimizing the w and b paramters. For that popuse we are using requires_grad property to compute the gradients of loss function with respect to the w and b\n",
        "\n"
      ],
      "metadata": {
        "id": "3-6eIh1PFs-z"
      }
    },
    {
      "cell_type": "code",
      "source": [
        "import torch\n",
        "\n",
        "x = torch.ones(5)  # input tensor\n",
        "y = torch.zeros(3)  # expected output\n",
        "w = torch.randn(5, 3, requires_grad=True)\n",
        "b = torch.randn(3, requires_grad=True)\n",
        "z = torch.matmul(x, w)+b\n",
        "loss = torch.nn.functional.binary_cross_entropy_with_logits(z, y)"
      ],
      "metadata": {
        "id": "fvKyerNVGrTP"
      },
      "execution_count": 1,
      "outputs": []
    },
    {
      "cell_type": "markdown",
      "source": [
        "**Computing Gradients** <br>\n",
        "copied from <a href=\"https://pytorch.org/tutorials/beginner/basics/autogradqs_tutorial.html\"> here </a> <br>\n",
        "\n",
        "To optimize weights of parameters in the neural network, we need to compute the derivatives of our loss function with respect to parameters, namely, we need ∂loss∂w\\frac{\\partial loss}{\\partial w}∂w∂loss​ and ∂loss∂b\\frac{\\partial loss}{\\partial b}∂b∂loss​ under some fixed values of x and y. To compute those derivatives, we call loss.backward(), and then retrieve the values from w.grad and b.grad:"
      ],
      "metadata": {
        "id": "WunloXYpIUmp"
      }
    },
    {
      "cell_type": "code",
      "source": [
        "loss.backward()\n",
        "print(w.grad)\n",
        "print(b.grad)"
      ],
      "metadata": {
        "colab": {
          "base_uri": "https://localhost:8080/"
        },
        "id": "w1Ck6-i9HBvo",
        "outputId": "59626ac9-1c58-4fc8-b0d9-8b368a22478b"
      },
      "execution_count": 2,
      "outputs": [
        {
          "output_type": "stream",
          "name": "stdout",
          "text": [
            "tensor([[0.0280, 0.2103, 0.0929],\n",
            "        [0.0280, 0.2103, 0.0929],\n",
            "        [0.0280, 0.2103, 0.0929],\n",
            "        [0.0280, 0.2103, 0.0929],\n",
            "        [0.0280, 0.2103, 0.0929]])\n",
            "tensor([0.0280, 0.2103, 0.0929])\n"
          ]
        }
      ]
    }
  ]
}